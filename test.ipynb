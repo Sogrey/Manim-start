{
 "cells": [
  {
   "cell_type": "code",
   "execution_count": null,
   "metadata": {},
   "outputs": [],
   "source": [
    "from manim import *\n",
    "config.media_width = \"100%\"\n",
    "\n",
    "# 按Shift+Enter运行代码块"
   ]
  },
  {
   "cell_type": "code",
   "execution_count": null,
   "metadata": {},
   "outputs": [],
   "source": [
    "from manim import *\n",
    "\n",
    "class WriteText(Scene):\n",
    "    def construct(self):\n",
    "        text = Text(\"Hello world\", font_size=144)\n",
    "        self.add(text)"
   ]
  },
  {
   "cell_type": "code",
   "execution_count": null,
   "metadata": {},
   "outputs": [],
   "source": [
    "class Shapes(Scene):\n",
    "    def construct(self):\n",
    "        circle = Circle()\n",
    "        square = Square()\n",
    "        triangle = Triangle()\n",
    "\n",
    "        circle.shift(LEFT)\n",
    "        square.shift(UP)\n",
    "        triangle.shift(RIGHT)\n",
    "\n",
    "        self.add(circle, square, triangle)\n",
    "        self.wait(1)"
   ]
  },
  {
   "cell_type": "code",
   "execution_count": null,
   "metadata": {},
   "outputs": [],
   "source": [
    "from manim import *\n",
    "s = Square()\n",
    "prepare_animation(FadeIn(s))\n",
    "prepare_animation(s.animate.scale(2).rotate(42))\n",
    "# prepare_animation(42)"
   ]
  },
  {
   "cell_type": "code",
   "execution_count": null,
   "metadata": {},
   "outputs": [],
   "source": [
    "from manim import *\n",
    "\n",
    "class LagRatios(Scene):\n",
    "    def construct(self):\n",
    "        ratios = [0, 0.1, 0.5, 1, 2]  # demonstrated lag_ratios\n",
    "\n",
    "        # Create dot groups\n",
    "        group = VGroup(*[Dot() for _ in range(4)]).arrange_submobjects()\n",
    "        groups = VGroup(*[group.copy() for _ in ratios]).arrange_submobjects(buff=1)\n",
    "        self.add(groups)\n",
    "\n",
    "        # Label groups\n",
    "        self.add(Text(\"lag_ratio = \", font_size=36).next_to(groups, UP, buff=1.5))\n",
    "        for group, ratio in zip(groups, ratios):\n",
    "            self.add(Text(str(ratio), font_size=36).next_to(group, UP))\n",
    "\n",
    "        #Animate groups with different lag_ratios\n",
    "        self.play(AnimationGroup(*[\n",
    "            group.animate(lag_ratio=ratio, run_time=1.5).shift(DOWN * 2)\n",
    "            for group, ratio in zip(groups, ratios)\n",
    "        ]))\n",
    "\n",
    "        # lag_ratio also works recursively on nested submobjects:\n",
    "        self.play(groups.animate(run_time=1, lag_ratio=0.1).shift(UP * 2))"
   ]
  }
 ],
 "metadata": {
  "kernelspec": {
   "display_name": "Python 3.9.6 64-bit",
   "language": "python",
   "name": "python3"
  },
  "language_info": {
   "codemirror_mode": {
    "name": "ipython",
    "version": 3
   },
   "file_extension": ".py",
   "mimetype": "text/x-python",
   "name": "python",
   "nbconvert_exporter": "python",
   "pygments_lexer": "ipython3",
   "version": "3.9.6"
  },
  "orig_nbformat": 4,
  "vscode": {
   "interpreter": {
    "hash": "81794d4967e6c3204c66dcd87b604927b115b27c00565d3d43f05ba2f3a2cb0d"
   }
  }
 },
 "nbformat": 4,
 "nbformat_minor": 2
}
